{
  "nbformat": 4,
  "nbformat_minor": 0,
  "metadata": {
    "kernelspec": {
      "display_name": "Python 3",
      "language": "python",
      "name": "python3"
    },
    "language_info": {
      "codemirror_mode": {
        "name": "ipython",
        "version": 3
      },
      "file_extension": ".py",
      "mimetype": "text/x-python",
      "name": "python",
      "nbconvert_exporter": "python",
      "pygments_lexer": "ipython3",
      "version": "3.6.4"
    },
    "colab": {
      "provenance": []
    },
    "accelerator": "GPU"
  },
  "cells": [
    {
      "cell_type": "markdown",
      "metadata": {
        "id": "t7SoCzqJSe4O"
      },
      "source": [
        "https://machinelearningmastery.com/how-to-develop-a-word-level-neural-language-model-in-keras/"
      ]
    },
    {
      "cell_type": "code",
      "metadata": {
        "id": "kJXWQsFMLAqN",
        "colab": {
          "base_uri": "https://localhost:8080/",
          "height": 101
        },
        "outputId": "ea1960c1-2478-4f0d-b177-d57055aaedee"
      },
      "source": [
        "%tensorflow_version 1.1"
      ],
      "execution_count": null,
      "outputs": [
        {
          "output_type": "stream",
          "text": [
            "`%tensorflow_version` only switches the major version: 1.x or 2.x.\n",
            "You set: `1.1`. This will be interpreted as: `1.x`.\n",
            "\n",
            "\n",
            "TensorFlow 1.x selected.\n"
          ],
          "name": "stdout"
        }
      ]
    },
    {
      "cell_type": "code",
      "metadata": {
        "id": "wdIBrX8GIBnV",
        "colab": {
          "base_uri": "https://localhost:8080/",
          "height": 34
        },
        "outputId": "f72b680c-f33c-4b5b-8849-259817023bbc"
      },
      "source": [
        "\n",
        "import numpy as np\n",
        "import pandas as pd\n",
        "from numpy import array\n",
        "from collections import defaultdict\n",
        "import re\n",
        "\n",
        "from bs4 import BeautifulSoup\n",
        "\n",
        "import sys\n",
        "import os\n",
        "import string\n",
        "os.environ['KERAS_BACKEND']='tensorflow'\n",
        "\n",
        "from keras.preprocessing.text import Tokenizer, text_to_word_sequence\n",
        "from keras.preprocessing.sequence import pad_sequences\n",
        "from keras.utils.np_utils import to_categorical\n",
        "\n",
        "from keras.layers import Embedding\n",
        "from keras.layers import Dense, Input, Flatten\n",
        "from keras.layers import Conv1D, MaxPooling1D, Embedding, Dropout, LSTM, GRU, Bidirectional, TimeDistributed\n",
        "from keras.models import Model, Sequential\n",
        "\n",
        "from keras import backend as K\n",
        "from keras.engine.topology import Layer, InputSpec\n",
        "from keras import initializers\n",
        "\n",
        "import tensorflow as tf\n",
        "from keras.backend.tensorflow_backend import set_session\n",
        "from pickle import dump\n",
        "\n"
      ],
      "execution_count": null,
      "outputs": [
        {
          "output_type": "stream",
          "text": [
            "Using TensorFlow backend.\n"
          ],
          "name": "stderr"
        }
      ]
    },
    {
      "cell_type": "code",
      "metadata": {
        "id": "9HhlmlyDIBng"
      },
      "source": [
        "def gpu_alloc(device_id):\n",
        "    os.environ[\"CUDA_VISIBLE_DEVICES\"]=device_id\n",
        "    config = tf.ConfigProto()\n",
        "    config.gpu_options.allow_growth = True\n",
        "    set_session(tf.Session(config=config))"
      ],
      "execution_count": null,
      "outputs": []
    },
    {
      "cell_type": "code",
      "metadata": {
        "id": "4EuPeCM_IBnp"
      },
      "source": [
        "gpu_alloc(\"1\")"
      ],
      "execution_count": null,
      "outputs": []
    },
    {
      "cell_type": "markdown",
      "metadata": {
        "id": "17aQkZePIBnw"
      },
      "source": [
        "# NLM\n",
        "https://machinelearningmastery.com/how-to-develop-a-word-level-neural-language-model-in-keras/"
      ]
    },
    {
      "cell_type": "markdown",
      "metadata": {
        "id": "A6v-cQJQIBnx"
      },
      "source": [
        "# Data\n"
      ]
    },
    {
      "cell_type": "code",
      "metadata": {
        "id": "P7JqQE3cITrb",
        "colab": {
          "base_uri": "https://localhost:8080/",
          "height": 202
        },
        "outputId": "332d07a6-1eda-4eed-8533-a077a6577bfa"
      },
      "source": [
        "!wget https://raw.githubusercontent.com/mayank2498/The-Republic-language-model/master/republic_cleaned.txt"
      ],
      "execution_count": null,
      "outputs": [
        {
          "output_type": "stream",
          "text": [
            "--2020-07-15 13:07:56--  https://raw.githubusercontent.com/mayank2498/The-Republic-language-model/master/republic_cleaned.txt\n",
            "Resolving raw.githubusercontent.com (raw.githubusercontent.com)... 151.101.0.133, 151.101.64.133, 151.101.128.133, ...\n",
            "Connecting to raw.githubusercontent.com (raw.githubusercontent.com)|151.101.0.133|:443... connected.\n",
            "HTTP request sent, awaiting response... 200 OK\n",
            "Length: 657816 (642K) [text/plain]\n",
            "Saving to: ‘republic_cleaned.txt’\n",
            "\n",
            "\rrepublic_cleaned.tx   0%[                    ]       0  --.-KB/s               \rrepublic_cleaned.tx 100%[===================>] 642.40K  --.-KB/s    in 0.08s   \n",
            "\n",
            "2020-07-15 13:07:57 (7.83 MB/s) - ‘republic_cleaned.txt’ saved [657816/657816]\n",
            "\n"
          ],
          "name": "stdout"
        }
      ]
    },
    {
      "cell_type": "code",
      "metadata": {
        "id": "_R4kiyn2IBny",
        "colab": {
          "base_uri": "https://localhost:8080/",
          "height": 154
        },
        "outputId": "0c041b9a-51f6-4323-9d7d-6e5f1ec8b104"
      },
      "source": [
        "# load doc into memory\n",
        "def load_doc(filename):\n",
        "    # open the file as read only\n",
        "    file = open(filename, 'r')\n",
        "    # read all text\n",
        "    text = file.read()\n",
        "    # close the file\n",
        "    file.close()\n",
        "    return text\n",
        "\n",
        "# turn a doc into clean tokens\n",
        "def clean_doc(doc):\n",
        "    # replace '--' with a space ' '\n",
        "    doc = doc.replace('--', ' ')\n",
        "    # split into tokens by white space\n",
        "    tokens = doc.split()\n",
        "    # remove punctuation from each token\n",
        "    table = str.maketrans('', '', string.punctuation)\n",
        "    tokens = [w.translate(table) for w in tokens]\n",
        "    # remove remaining tokens that are not alphabetic\n",
        "    tokens = [word for word in tokens if word.isalpha()]\n",
        "    # make lower case\n",
        "    tokens = [word.lower() for word in tokens]\n",
        "    return tokens\n",
        "\n",
        "# save tokens to file, one dialog per line\n",
        "def save_doc(lines, filename):\n",
        "    data = '\\n'.join(lines)\n",
        "    file = open(filename, 'w')\n",
        "    file.write(data)\n",
        "    file.close()\n",
        "\n",
        "# load document\n",
        "in_filename = 'republic_cleaned.txt'\n",
        "doc = load_doc(in_filename)\n",
        "print(doc[:200])\n",
        "\n",
        "# clean document\n",
        "tokens = clean_doc(doc)\n",
        "print(tokens[:200])\n",
        "print('Total Tokens: %d' % len(tokens))\n",
        "print('Unique Tokens: %d' % len(set(tokens)))\n",
        "\n",
        "# organize into sequences of tokens\n",
        "length = 50 + 1\n",
        "sequences = list()\n",
        "for i in range(length, len(tokens)):\n",
        "    # select sequence of tokens\n",
        "    seq = tokens[i-length:i]\n",
        "    # convert into a line\n",
        "    line = ' '.join(seq)\n",
        "    # store\n",
        "    sequences.append(line)\n",
        "print('Total Sequences: %d' % len(sequences))\n",
        "\n",
        "# save sequences to file\n",
        "out_filename = 'republic_sequences.txt'\n",
        "save_doc(sequences, out_filename)"
      ],
      "execution_count": null,
      "outputs": [
        {
          "output_type": "stream",
          "text": [
            "﻿I went down yesterday to the Piraeus with Glaucon the son of Ariston,\n",
            "that I might offer up my prayers to the goddess (Bendis, the Thracian\n",
            "Artemis.); and also because I wanted to see in what manner \n",
            "['went', 'down', 'yesterday', 'to', 'the', 'piraeus', 'with', 'glaucon', 'the', 'son', 'of', 'ariston', 'that', 'i', 'might', 'offer', 'up', 'my', 'prayers', 'to', 'the', 'goddess', 'bendis', 'the', 'thracian', 'artemis', 'and', 'also', 'because', 'i', 'wanted', 'to', 'see', 'in', 'what', 'manner', 'they', 'would', 'celebrate', 'the', 'festival', 'which', 'was', 'a', 'new', 'thing', 'i', 'was', 'delighted', 'with', 'the', 'procession', 'of', 'the', 'inhabitants', 'but', 'that', 'of', 'the', 'thracians', 'was', 'equally', 'if', 'not', 'more', 'beautiful', 'when', 'we', 'had', 'finished', 'our', 'prayers', 'and', 'viewed', 'the', 'spectacle', 'we', 'turned', 'in', 'the', 'direction', 'of', 'the', 'city', 'and', 'at', 'that', 'instant', 'polemarchus', 'the', 'son', 'of', 'cephalus', 'chanced', 'to', 'catch', 'sight', 'of', 'us', 'from', 'a', 'distance', 'as', 'we', 'were', 'starting', 'on', 'our', 'way', 'home', 'and', 'told', 'his', 'servant', 'to', 'run', 'and', 'bid', 'us', 'wait', 'for', 'him', 'the', 'servant', 'took', 'hold', 'of', 'me', 'by', 'the', 'cloak', 'behind', 'and', 'said', 'polemarchus', 'desires', 'you', 'to', 'wait', 'i', 'turned', 'round', 'and', 'asked', 'him', 'where', 'his', 'master', 'was', 'there', 'he', 'is', 'said', 'the', 'youth', 'coming', 'after', 'you', 'if', 'you', 'will', 'only', 'wait', 'certainly', 'we', 'will', 'said', 'glaucon', 'and', 'in', 'a', 'few', 'minutes', 'polemarchus', 'appeared', 'and', 'with', 'him', 'adeimantus', 'glaucons', 'brother', 'niceratus', 'the', 'son', 'of', 'nicias', 'and', 'several', 'others', 'who', 'had', 'been', 'at', 'the', 'procession', 'polemarchus', 'said', 'to', 'me', 'i']\n",
            "Total Tokens: 118681\n",
            "Unique Tokens: 7409\n",
            "Total Sequences: 118630\n"
          ],
          "name": "stdout"
        }
      ]
    },
    {
      "cell_type": "markdown",
      "metadata": {
        "id": "LY2sNk3DIBn2"
      },
      "source": [
        "## Train LM"
      ]
    },
    {
      "cell_type": "code",
      "metadata": {
        "id": "fdKThvAKIBn4",
        "colab": {
          "base_uri": "https://localhost:8080/",
          "height": 406
        },
        "outputId": "867aa47d-0780-43cc-c1bf-57e19afe0c94"
      },
      "source": [
        "# load\n",
        "in_filename = 'republic_sequences.txt'\n",
        "doc = load_doc(in_filename)\n",
        "lines = doc.split('\\n')\n",
        "\n",
        "# integer encode sequences of words\n",
        "tokenizer = Tokenizer()\n",
        "tokenizer.fit_on_texts(lines)\n",
        "sequences = tokenizer.texts_to_sequences(lines)\n",
        "# vocabulary size\n",
        "vocab_size = len(tokenizer.word_index) + 1\n",
        "\n",
        "# separate into input and output\n",
        "sequences = array(sequences)\n",
        "X, y = sequences[:,:-1], sequences[:,-1]\n",
        "y = to_categorical(y, num_classes=vocab_size)\n",
        "seq_length = X.shape[1]\n",
        "\n",
        "# define model\n",
        "model = Sequential()\n",
        "model.add(Embedding(vocab_size, 50, input_length=seq_length))\n",
        "model.add(LSTM(100, return_sequences=True))\n",
        "model.add(LSTM(100))\n",
        "model.add(Dense(100, activation='relu'))\n",
        "model.add(Dense(vocab_size, activation='softmax'))\n",
        "print(model.summary())\n",
        "\n",
        "\n"
      ],
      "execution_count": null,
      "outputs": [
        {
          "output_type": "stream",
          "text": [
            "WARNING:tensorflow:From /tensorflow-1.15.2/python3.6/tensorflow_core/python/ops/resource_variable_ops.py:1630: calling BaseResourceVariable.__init__ (from tensorflow.python.ops.resource_variable_ops) with constraint is deprecated and will be removed in a future version.\n",
            "Instructions for updating:\n",
            "If using Keras pass *_constraint arguments to layers.\n",
            "Model: \"sequential_1\"\n",
            "_________________________________________________________________\n",
            "Layer (type)                 Output Shape              Param #   \n",
            "=================================================================\n",
            "embedding_1 (Embedding)      (None, 50, 50)            370500    \n",
            "_________________________________________________________________\n",
            "lstm_1 (LSTM)                (None, 50, 100)           60400     \n",
            "_________________________________________________________________\n",
            "lstm_2 (LSTM)                (None, 100)               80400     \n",
            "_________________________________________________________________\n",
            "dense_1 (Dense)              (None, 100)               10100     \n",
            "_________________________________________________________________\n",
            "dense_2 (Dense)              (None, 7410)              748410    \n",
            "=================================================================\n",
            "Total params: 1,269,810\n",
            "Trainable params: 1,269,810\n",
            "Non-trainable params: 0\n",
            "_________________________________________________________________\n",
            "None\n"
          ],
          "name": "stdout"
        }
      ]
    },
    {
      "cell_type": "code",
      "metadata": {
        "id": "sZjClM0XSzsG",
        "colab": {
          "base_uri": "https://localhost:8080/",
          "height": 644
        },
        "outputId": "bfddc3d4-2536-40e8-f3c0-39821aae7607"
      },
      "source": [
        "from keras.utils.vis_utils import plot_model\n",
        "plot_model(model, to_file='model.png', show_shapes=True)"
      ],
      "execution_count": null,
      "outputs": [
        {
          "output_type": "execute_result",
          "data": {
            "image/png": "[encoded data removed]",
            "text/plain": [
              "<IPython.core.display.Image object>"
            ]
          },
          "metadata": {
            "tags": []
          },
          "execution_count": 8
        }
      ]
    },
    {
      "cell_type": "code",
      "metadata": {
        "id": "9X3k2oBlSy9b",
        "colab": {
          "base_uri": "https://localhost:8080/",
          "height": 1000
        },
        "outputId": "08e0082c-df7e-4382-a21d-1cffc1a70617"
      },
      "source": [
        "# compile model\n",
        "model.compile(loss='categorical_crossentropy', optimizer='adam', metrics=['accuracy'])\n",
        "# fit model\n",
        "model.fit(X, y, batch_size=128, epochs=100)"
      ],
      "execution_count": null,
      "outputs": [
        {
          "output_type": "stream",
          "text": [
            "WARNING:tensorflow:From /usr/local/lib/python3.6/dist-packages/keras/backend/tensorflow_backend.py:422: The name tf.global_variables is deprecated. Please use tf.compat.v1.global_variables instead.\n",
            "\n",
            "Epoch 1/100\n",
            "118630/118630 [==============================] - 326s 3ms/step - loss: 6.1599 - accuracy: 0.0703\n",
            "Epoch 2/100\n",
            "118630/118630 [==============================] - 328s 3ms/step - loss: 5.7024 - accuracy: 0.1040\n",
            "Epoch 3/100\n",
            "118630/118630 [==============================] - 322s 3ms/step - loss: 5.4600 - accuracy: 0.1284\n",
            "Epoch 4/100\n",
            "118630/118630 [==============================] - 321s 3ms/step - loss: 5.2988 - accuracy: 0.1431\n",
            "Epoch 5/100\n",
            "118630/118630 [==============================] - 334s 3ms/step - loss: 5.1828 - accuracy: 0.1537\n",
            "Epoch 6/100\n",
            "118630/118630 [==============================] - 332s 3ms/step - loss: 5.0847 - accuracy: 0.1597\n",
            "Epoch 7/100\n",
            "118630/118630 [==============================] - 320s 3ms/step - loss: 4.9962 - accuracy: 0.1661\n",
            "Epoch 8/100\n",
            "118630/118630 [==============================] - 322s 3ms/step - loss: 4.9150 - accuracy: 0.1705\n",
            "Epoch 9/100\n",
            "118630/118630 [==============================] - 334s 3ms/step - loss: 4.8400 - accuracy: 0.1745\n",
            "Epoch 10/100\n",
            "118630/118630 [==============================] - 326s 3ms/step - loss: 4.7707 - accuracy: 0.1778\n",
            "Epoch 11/100\n",
            "118630/118630 [==============================] - 329s 3ms/step - loss: 4.7056 - accuracy: 0.1812\n",
            "Epoch 12/100\n",
            "118630/118630 [==============================] - 320s 3ms/step - loss: 4.6438 - accuracy: 0.1837\n",
            "Epoch 13/100\n",
            "118630/118630 [==============================] - 321s 3ms/step - loss: 4.5870 - accuracy: 0.1862\n",
            "Epoch 14/100\n",
            "118630/118630 [==============================] - 328s 3ms/step - loss: 4.5343 - accuracy: 0.1896\n",
            "Epoch 15/100\n",
            "118630/118630 [==============================] - 330s 3ms/step - loss: 4.4812 - accuracy: 0.1911\n",
            "Epoch 16/100\n",
            "118630/118630 [==============================] - 332s 3ms/step - loss: 4.4308 - accuracy: 0.1935\n",
            "Epoch 17/100\n",
            "118630/118630 [==============================] - 320s 3ms/step - loss: 4.3835 - accuracy: 0.1960\n",
            "Epoch 18/100\n",
            "118630/118630 [==============================] - 320s 3ms/step - loss: 4.3375 - accuracy: 0.1990\n",
            "Epoch 19/100\n",
            "118630/118630 [==============================] - 322s 3ms/step - loss: 4.2935 - accuracy: 0.2006\n",
            "Epoch 20/100\n",
            "118630/118630 [==============================] - 335s 3ms/step - loss: 4.2529 - accuracy: 0.2039\n",
            "Epoch 21/100\n",
            "118630/118630 [==============================] - 330s 3ms/step - loss: 4.2155 - accuracy: 0.2041\n",
            "Epoch 22/100\n",
            "118630/118630 [==============================] - 330s 3ms/step - loss: 4.1794 - accuracy: 0.2070\n",
            "Epoch 23/100\n",
            "118630/118630 [==============================] - 321s 3ms/step - loss: 4.1452 - accuracy: 0.2094\n",
            "Epoch 24/100\n",
            "118630/118630 [==============================] - 321s 3ms/step - loss: 4.1135 - accuracy: 0.2120\n",
            "Epoch 25/100\n",
            "118630/118630 [==============================] - 329s 3ms/step - loss: 4.0834 - accuracy: 0.2149\n",
            "Epoch 26/100\n",
            "118630/118630 [==============================] - 331s 3ms/step - loss: 4.0554 - accuracy: 0.2160\n",
            "Epoch 27/100\n",
            "118630/118630 [==============================] - 331s 3ms/step - loss: 4.0283 - accuracy: 0.2178\n",
            "Epoch 28/100\n",
            "118630/118630 [==============================] - 330s 3ms/step - loss: 4.0029 - accuracy: 0.2202\n",
            "Epoch 29/100\n",
            "118630/118630 [==============================] - 331s 3ms/step - loss: 3.9755 - accuracy: 0.2226\n",
            "Epoch 30/100\n",
            "118630/118630 [==============================] - 331s 3ms/step - loss: 3.9720 - accuracy: 0.2228\n",
            "Epoch 31/100\n",
            "118630/118630 [==============================] - 331s 3ms/step - loss: 3.9385 - accuracy: 0.2261\n",
            "Epoch 32/100\n",
            "118630/118630 [==============================] - 330s 3ms/step - loss: 3.9153 - accuracy: 0.2284\n",
            "Epoch 33/100\n",
            "118630/118630 [==============================] - 328s 3ms/step - loss: 3.8923 - accuracy: 0.2304\n",
            "Epoch 34/100\n",
            "118630/118630 [==============================] - 329s 3ms/step - loss: 3.8702 - accuracy: 0.2331\n",
            "Epoch 35/100\n",
            "118630/118630 [==============================] - 329s 3ms/step - loss: 3.8500 - accuracy: 0.2338\n",
            "Epoch 36/100\n",
            "118630/118630 [==============================] - 327s 3ms/step - loss: 3.8281 - accuracy: 0.2370\n",
            "Epoch 37/100\n",
            "118630/118630 [==============================] - 327s 3ms/step - loss: 3.8089 - accuracy: 0.2393\n",
            "Epoch 38/100\n",
            "118630/118630 [==============================] - 327s 3ms/step - loss: 3.7890 - accuracy: 0.2408\n",
            "Epoch 39/100\n",
            "118630/118630 [==============================] - 326s 3ms/step - loss: 3.7675 - accuracy: 0.2438\n",
            "Epoch 40/100\n",
            "118630/118630 [==============================] - 328s 3ms/step - loss: 3.7492 - accuracy: 0.2453\n",
            "Epoch 41/100\n",
            "118630/118630 [==============================] - 328s 3ms/step - loss: 3.7307 - accuracy: 0.2477\n",
            "Epoch 42/100\n",
            "118630/118630 [==============================] - 330s 3ms/step - loss: 3.7110 - accuracy: 0.2498\n",
            "Epoch 43/100\n",
            "118630/118630 [==============================] - 329s 3ms/step - loss: 3.6916 - accuracy: 0.2523\n",
            "Epoch 44/100\n",
            "118630/118630 [==============================] - 326s 3ms/step - loss: 3.6736 - accuracy: 0.2543\n",
            "Epoch 45/100\n",
            "118630/118630 [==============================] - 332s 3ms/step - loss: 3.6561 - accuracy: 0.2556\n",
            "Epoch 46/100\n",
            "118630/118630 [==============================] - 330s 3ms/step - loss: 3.6416 - accuracy: 0.2583\n",
            "Epoch 47/100\n",
            "118630/118630 [==============================] - 329s 3ms/step - loss: 3.6192 - accuracy: 0.2603\n",
            "Epoch 48/100\n",
            "118630/118630 [==============================] - 330s 3ms/step - loss: 3.6046 - accuracy: 0.2627\n",
            "Epoch 49/100\n",
            "118630/118630 [==============================] - 328s 3ms/step - loss: 3.5856 - accuracy: 0.2646\n",
            "Epoch 50/100\n",
            "118630/118630 [==============================] - 329s 3ms/step - loss: 3.5713 - accuracy: 0.2667\n",
            "Epoch 51/100\n",
            "118630/118630 [==============================] - 330s 3ms/step - loss: 3.5532 - accuracy: 0.2687\n",
            "Epoch 52/100\n",
            "118630/118630 [==============================] - 327s 3ms/step - loss: 3.5382 - accuracy: 0.2708\n",
            "Epoch 53/100\n",
            "118630/118630 [==============================] - 328s 3ms/step - loss: 3.5374 - accuracy: 0.2708\n",
            "Epoch 54/100\n",
            "118630/118630 [==============================] - 329s 3ms/step - loss: 3.5157 - accuracy: 0.2744\n",
            "Epoch 55/100\n",
            "118630/118630 [==============================] - 328s 3ms/step - loss: 3.4959 - accuracy: 0.2768\n",
            "Epoch 56/100\n",
            "118630/118630 [==============================] - 328s 3ms/step - loss: 3.4770 - accuracy: 0.2790\n",
            "Epoch 57/100\n",
            "118630/118630 [==============================] - 326s 3ms/step - loss: 3.4642 - accuracy: 0.2808\n",
            "Epoch 58/100\n",
            "118630/118630 [==============================] - 334s 3ms/step - loss: 3.4494 - accuracy: 0.2834\n",
            "Epoch 59/100\n",
            "118630/118630 [==============================] - 328s 3ms/step - loss: 3.4312 - accuracy: 0.2856\n",
            "Epoch 60/100\n",
            "118630/118630 [==============================] - 329s 3ms/step - loss: 3.4177 - accuracy: 0.2881\n",
            "Epoch 61/100\n",
            "118630/118630 [==============================] - 329s 3ms/step - loss: 3.4010 - accuracy: 0.2897\n",
            "Epoch 62/100\n",
            "118630/118630 [==============================] - 325s 3ms/step - loss: 3.3881 - accuracy: 0.2915\n",
            "Epoch 63/100\n",
            "118630/118630 [==============================] - 330s 3ms/step - loss: 3.3728 - accuracy: 0.2935\n",
            "Epoch 64/100\n",
            "118630/118630 [==============================] - 330s 3ms/step - loss: 3.3596 - accuracy: 0.2950\n",
            "Epoch 65/100\n",
            "118630/118630 [==============================] - 329s 3ms/step - loss: 3.3448 - accuracy: 0.2976\n",
            "Epoch 66/100\n",
            "118630/118630 [==============================] - 329s 3ms/step - loss: 3.3310 - accuracy: 0.2997\n",
            "Epoch 67/100\n",
            "118630/118630 [==============================] - 329s 3ms/step - loss: 3.3142 - accuracy: 0.3017\n",
            "Epoch 68/100\n",
            "118630/118630 [==============================] - 329s 3ms/step - loss: 3.3025 - accuracy: 0.3039\n",
            "Epoch 69/100\n",
            "118630/118630 [==============================] - 332s 3ms/step - loss: 3.2887 - accuracy: 0.3060\n",
            "Epoch 70/100\n",
            "118630/118630 [==============================] - 330s 3ms/step - loss: 3.2751 - accuracy: 0.3082\n",
            "Epoch 71/100\n",
            "118630/118630 [==============================] - 330s 3ms/step - loss: 3.2595 - accuracy: 0.3102\n",
            "Epoch 72/100\n",
            "118630/118630 [==============================] - 329s 3ms/step - loss: 3.2457 - accuracy: 0.3125\n",
            "Epoch 73/100\n",
            "118630/118630 [==============================] - 330s 3ms/step - loss: 3.2303 - accuracy: 0.3149\n",
            "Epoch 74/100\n",
            "118630/118630 [==============================] - 329s 3ms/step - loss: 3.2178 - accuracy: 0.3168\n",
            "Epoch 75/100\n",
            "118630/118630 [==============================] - 330s 3ms/step - loss: 3.2037 - accuracy: 0.3193\n",
            "Epoch 76/100\n",
            "118630/118630 [==============================] - 329s 3ms/step - loss: 3.1886 - accuracy: 0.3221\n",
            "Epoch 77/100\n",
            "118630/118630 [==============================] - 329s 3ms/step - loss: 3.1770 - accuracy: 0.3226\n",
            "Epoch 78/100\n",
            "118630/118630 [==============================] - 330s 3ms/step - loss: 3.1615 - accuracy: 0.3254\n",
            "Epoch 79/100\n",
            "118630/118630 [==============================] - 328s 3ms/step - loss: 3.1491 - accuracy: 0.3272\n",
            "Epoch 80/100\n",
            "118630/118630 [==============================] - 330s 3ms/step - loss: 3.1358 - accuracy: 0.3295\n",
            "Epoch 81/100\n",
            "118630/118630 [==============================] - 333s 3ms/step - loss: 3.1201 - accuracy: 0.3312\n",
            "Epoch 82/100\n",
            "118630/118630 [==============================] - 334s 3ms/step - loss: 3.1073 - accuracy: 0.3337\n",
            "Epoch 83/100\n",
            "118630/118630 [==============================] - 334s 3ms/step - loss: 3.0941 - accuracy: 0.3363\n",
            "Epoch 84/100\n",
            "118630/118630 [==============================] - 333s 3ms/step - loss: 3.0812 - accuracy: 0.3373\n",
            "Epoch 85/100\n",
            "118630/118630 [==============================] - 332s 3ms/step - loss: 3.0678 - accuracy: 0.3402\n",
            "Epoch 86/100\n",
            "118630/118630 [==============================] - 333s 3ms/step - loss: 3.0578 - accuracy: 0.3413\n",
            "Epoch 87/100\n",
            "118630/118630 [==============================] - 331s 3ms/step - loss: 3.0417 - accuracy: 0.3431\n",
            "Epoch 88/100\n",
            "118630/118630 [==============================] - 332s 3ms/step - loss: 3.0287 - accuracy: 0.3455\n",
            "Epoch 89/100\n",
            "118630/118630 [==============================] - 328s 3ms/step - loss: 3.0178 - accuracy: 0.3478\n",
            "Epoch 90/100\n",
            "118630/118630 [==============================] - 330s 3ms/step - loss: 3.1585 - accuracy: 0.3314\n",
            "Epoch 91/100\n",
            "118630/118630 [==============================] - 332s 3ms/step - loss: 3.0622 - accuracy: 0.3391\n",
            "Epoch 92/100\n",
            "118630/118630 [==============================] - 322s 3ms/step - loss: 2.9895 - accuracy: 0.3522\n",
            "Epoch 93/100\n",
            "118630/118630 [==============================] - 321s 3ms/step - loss: 2.9665 - accuracy: 0.3568\n",
            "Epoch 94/100\n",
            "118630/118630 [==============================] - 322s 3ms/step - loss: 2.9561 - accuracy: 0.3581\n",
            "Epoch 95/100\n",
            "118630/118630 [==============================] - 324s 3ms/step - loss: 2.9445 - accuracy: 0.3595\n",
            "Epoch 96/100\n",
            "118630/118630 [==============================] - 340s 3ms/step - loss: 2.9334 - accuracy: 0.3619\n",
            "Epoch 97/100\n",
            "118630/118630 [==============================] - 328s 3ms/step - loss: 2.9241 - accuracy: 0.3627\n",
            "Epoch 98/100\n",
            "118630/118630 [==============================] - 329s 3ms/step - loss: 2.9135 - accuracy: 0.3646\n",
            "Epoch 99/100\n",
            "118630/118630 [==============================] - 339s 3ms/step - loss: 2.9017 - accuracy: 0.3669\n",
            "Epoch 100/100\n",
            "118630/118630 [==============================] - 322s 3ms/step - loss: 2.8910 - accuracy: 0.3679\n"
          ],
          "name": "stdout"
        },
        {
          "output_type": "execute_result",
          "data": {
            "text/plain": [
              "<keras.callbacks.callbacks.History at 0x7fa345e59198>"
            ]
          },
          "metadata": {
            "tags": []
          },
          "execution_count": 9
        }
      ]
    },
    {
      "cell_type": "code",
      "metadata": {
        "id": "MjRQfOc-SsZH"
      },
      "source": [
        "# save the model to file\n",
        "model.save('model.h5')\n",
        "# save the tokenizer\n",
        "dump(tokenizer, open('tokenizer.pkl', 'wb'))"
      ],
      "execution_count": null,
      "outputs": []
    },
    {
      "cell_type": "markdown",
      "metadata": {
        "id": "As-u2gBPIBn9"
      },
      "source": [
        "## Use LM"
      ]
    },
    {
      "cell_type": "markdown",
      "metadata": {
        "id": "g7VMruamS_0N"
      },
      "source": [
        "Generate Text\n",
        "The first step in generating text is preparing a seed input.\n",
        "\n",
        "We will select a random line of text from the input text for this purpose. Once selected, we will print it so that we have some idea of what was used.\n",
        "```\n",
        "# select a seed text\n",
        "seed_text = lines[randint(0,len(lines))]\n",
        "print(seed_text + '\\n')\n",
        "\n",
        "\n",
        "```\n",
        "Next, we can generate new words, one at a time.\n",
        "\n",
        "First, the seed text must be encoded to integers using the same tokenizer that we used when training the model.\n",
        "```\n",
        "encoded = tokenizer.texts_to_sequences([seed_text])[0]\n",
        "```\n",
        "The model can predict the next word directly by calling model.predict_classes() that will return the index of the word with the highest probability.\n",
        "```\n",
        "# predict probabilities for each word\n",
        "yhat = model.predict_classes(encoded, verbose=0)\n",
        "```\n",
        "We can then look up the index in the Tokenizers mapping to get the associated word.\n",
        "```\n",
        "out_word = ''\n",
        "for word, index in tokenizer.word_index.items():\n",
        "\tif index == yhat:\n",
        "\t\tout_word = word\n",
        "\t\tbreak\n",
        "```\n",
        "We can then append this word to the seed text and repeat the process.\n",
        "\n",
        "Importantly, the input sequence is going to get too long. We can truncate it to the desired length after the input sequence has been encoded to integers. Keras provides the pad_sequences() function that we can use to perform this truncation.\n",
        "```\n",
        "encoded = pad_sequences([encoded], maxlen=seq_length, truncating='pre')\n",
        "```\n",
        "We can wrap all of this into a function called generate_seq() that takes as input the model, the tokenizer, input sequence length, the seed text, and the number of words to generate. It then returns a sequence of words generated by the model.\n",
        "```\n",
        "# generate a sequence from a language model\n",
        "def generate_seq(model, tokenizer, seq_length, seed_text, n_words):\n",
        "\tresult = list()\n",
        "\tin_text = seed_text\n",
        "\t# generate a fixed number of words\n",
        "\tfor _ in range(n_words):\n",
        "\t\t# encode the text as integer\n",
        "\t\tencoded = tokenizer.texts_to_sequences([in_text])[0]\n",
        "\t\t# truncate sequences to a fixed length\n",
        "\t\tencoded = pad_sequences([encoded], maxlen=seq_length, truncating='pre')\n",
        "\t\t# predict probabilities for each word\n",
        "\t\tyhat = model.predict_classes(encoded, verbose=0)\n",
        "\t\t# map predicted word index to word\n",
        "\t\tout_word = ''\n",
        "\t\tfor word, index in tokenizer.word_index.items():\n",
        "\t\t\tif index == yhat:\n",
        "\t\t\t\tout_word = word\n",
        "\t\t\t\tbreak\n",
        "\t\t# append to input\n",
        "\t\tin_text += ' ' + out_word\n",
        "\t\tresult.append(out_word)\n",
        "\treturn ' '.join(result)\n",
        "```"
      ]
    },
    {
      "cell_type": "code",
      "metadata": {
        "id": "zJnCphQXIBn-",
        "colab": {
          "base_uri": "https://localhost:8080/",
          "height": 87
        },
        "outputId": "a6f55346-4f63-4c56-ac20-b6517f4c7818"
      },
      "source": [
        "# Use LM\n",
        "from random import randint\n",
        "from pickle import load\n",
        "from keras.models import load_model\n",
        "from keras.preprocessing.sequence import pad_sequences\n",
        "\n",
        "\n",
        "# generate a sequence from a language model\n",
        "def generate_seq(model, tokenizer, seq_length, seed_text, n_words):\n",
        "    result = list()\n",
        "    in_text = seed_text\n",
        "    # generate a fixed number of words\n",
        "    for _ in range(n_words):\n",
        "        # encode the text as integer\n",
        "        encoded = tokenizer.texts_to_sequences([in_text])[0]\n",
        "        # truncate sequences to a fixed length\n",
        "        encoded = pad_sequences([encoded], maxlen=seq_length, truncating='pre')\n",
        "        # predict probabilities for each word\n",
        "        yhat = model.predict_classes(encoded, verbose=0)\n",
        "        # map predicted word index to word\n",
        "        out_word = ''\n",
        "        for word, index in tokenizer.word_index.items():\n",
        "            if index == yhat:\n",
        "                out_word = word\n",
        "                break\n",
        "        # append to input\n",
        "        in_text += ' ' + out_word\n",
        "        result.append(out_word)\n",
        "    return ' '.join(result)\n",
        "\n",
        "# load cleaned text sequences\n",
        "in_filename = 'republic_sequences.txt'\n",
        "doc = load_doc(in_filename)\n",
        "lines = doc.split('\\n')\n",
        "seq_length = len(lines[0].split()) - 1\n",
        "\n",
        "# load the model\n",
        "model = load_model('model.h5')\n",
        "\n",
        "# load the tokenizer\n",
        "tokenizer = load(open('tokenizer.pkl', 'rb'))\n",
        "\n",
        "# select a seed text\n",
        "seed_text = lines[randint(0,len(lines))]\n",
        "print(seed_text + '\\n')\n",
        "\n",
        "# generate new text\n",
        "generated = generate_seq(model, tokenizer, seq_length, seed_text, 50)\n",
        "print(generated)"
      ],
      "execution_count": null,
      "outputs": [
        {
          "output_type": "stream",
          "text": [
            "be full of spirit yes but are not these spirited natures apt to be savage with one another and with everybody else a difficulty by no means easy to overcome he replied whereas i said they ought to be dangerous to their enemies and gentle to their friends if not they\n",
            "\n",
            "know whether we shall be able to have been schooled by trial which is the sequel of the other state and the other smaller than the other and the other and the other and the other and the other passes within him which is the strings in which the same\n"
          ],
          "name": "stdout"
        }
      ]
    }
  ]
}