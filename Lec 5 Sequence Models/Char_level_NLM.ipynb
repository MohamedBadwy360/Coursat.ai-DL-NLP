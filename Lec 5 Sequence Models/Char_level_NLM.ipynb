{
  "nbformat": 4,
  "nbformat_minor": 0,
  "metadata": {
    "colab": {
      "provenance": []
    },
    "kernelspec": {
      "name": "python3",
      "display_name": "Python 3"
    }
  },
  "cells": [
    {
      "cell_type": "code",
      "metadata": {
        "id": "1jhJvfFKSOaC"
      },
      "source": [
        "https://machinelearningmastery.com/develop-character-based-neural-language-model-keras/"
      ],
      "execution_count": null,
      "outputs": []
    },
    {
      "cell_type": "code",
      "metadata": {
        "id": "_QYb6ZP-JVT5"
      },
      "source": [
        "s = \"Sing a song of sixpence, A pocket full of rye. Four and twenty blackbirds, Baked in a pie. When the pie was opened The birds began to sing; Wasn't that a dainty dish, To set before the king. The king was in his counting house, Counting out his money; The queen was in the parlour, Eating bread and honey. The maid was in the garden, Hanging out the clothes, When down came a blackbird And pecked off her nose.\""
      ],
      "execution_count": null,
      "outputs": []
    },
    {
      "cell_type": "code",
      "metadata": {
        "id": "5veZj3ACP_ih"
      },
      "source": [
        "from pickle import load\n",
        "from keras.models import load_model\n",
        "from keras.utils import to_categorical\n",
        "from keras.preprocessing.sequence import pad_sequences\n",
        "from pickle import dump\n",
        "from keras.utils import to_categorical\n",
        "from keras.utils.vis_utils import plot_model\n",
        "from keras.models import Sequential\n",
        "from keras.layers import Dense\n",
        "from keras.layers import LSTM"
      ],
      "execution_count": null,
      "outputs": []
    },
    {
      "cell_type": "code",
      "metadata": {
        "id": "2A7xgkc9KEMr",
        "colab": {
          "base_uri": "https://localhost:8080/",
          "height": 74
        },
        "outputId": "52f9102e-2f49-45ab-d045-26c8f9b0f324"
      },
      "source": [
        "#load doc into memory\n",
        "def load_doc(filename):\n",
        "  # open the file as read only\n",
        "  file = open(filename, 'r')\n",
        "  # read all text\n",
        "  text = file.read()\n",
        "  # close the file\n",
        "  file.close()\n",
        "  return text\n",
        "# save tokens to file, one dialog per line\n",
        "def save_doc(lines, filename):\n",
        "  data = '\\n'.join(lines)\n",
        "  file = open(filename, 'w')\n",
        "  file.write(data)\n",
        "  file.close()\n",
        "# load text\n",
        "raw_text = s#load_doc('rhyme.txt')\n",
        "print(raw_text)\n",
        "# clean\n",
        "tokens = raw_text.split()\n",
        "raw_text = ' '.join(tokens)\n",
        "# organize into sequences of characters\n",
        "length = 10\n",
        "sequences = list()\n",
        "for i in range(length, len(raw_text)):\n",
        "  # select sequence of tokens\n",
        "  seq = raw_text[i-length:i+1]\n",
        "  # store\n",
        "  sequences.append(seq)\n",
        "print('Total Sequences: %d' % len(sequences))\n",
        "# save sequences to file\n",
        "out_filename = 'char_sequences.txt'\n",
        "save_doc(sequences, out_filename)"
      ],
      "execution_count": null,
      "outputs": [
        {
          "output_type": "stream",
          "text": [
            "Sing a song of sixpence, A pocket full of rye. Four and twenty blackbirds, Baked in a pie. When the pie was opened The birds began to sing; Wasn't that a dainty dish, To set before the king. The king was in his counting house, Counting out his money; The queen was in the parlour, Eating bread and honey. The maid was in the garden, Hanging out the clothes, When down came a blackbird And pecked off her nose.\n",
            "Total Sequences: 399\n"
          ],
          "name": "stdout"
        }
      ]
    },
    {
      "cell_type": "code",
      "metadata": {
        "id": "pxhI6SSMKdZV"
      },
      "source": [
        "# load doc into memory\n",
        "def load_doc(filename):\n",
        "  # open the file as read only\n",
        "  file = open(filename, 'r')\n",
        "  # read all text\n",
        "  text = file.read()\n",
        "  # close the file\n",
        "  file.close()\n",
        "  return text\n",
        "# load\n",
        "in_filename = 'char_sequences.txt'\n",
        "raw_text = load_doc(in_filename)\n",
        "lines = raw_text.split('\\n')"
      ],
      "execution_count": null,
      "outputs": []
    },
    {
      "cell_type": "markdown",
      "metadata": {
        "id": "CExQ0XIePEiG"
      },
      "source": [
        "The sequences of characters must be encoded as integers. This means that each unique character\n",
        "will be assigned a speci\n",
        "c integer value and each sequence of characters will be encoded as a\n",
        "sequence of integers. We can create the mapping given a sorted set of unique characters in the\n",
        "raw input data. The mapping is a dictionary of character values to integer values."
      ]
    },
    {
      "cell_type": "code",
      "metadata": {
        "id": "DhwUmlhhPDj9"
      },
      "source": [
        "\n",
        "chars = sorted(list(set(raw_text)))\n",
        "mapping = dict((c, i) for i, c in enumerate(chars))"
      ],
      "execution_count": null,
      "outputs": []
    },
    {
      "cell_type": "code",
      "metadata": {
        "id": "edA7E-zjPogP"
      },
      "source": [
        "sequences = list()\n",
        "for line in lines:\n",
        "\t# integer encode line\n",
        "\tencoded_seq = [mapping[char] for char in line]\n",
        "\t# store\n",
        "\tsequences.append(encoded_seq)"
      ],
      "execution_count": null,
      "outputs": []
    },
    {
      "cell_type": "code",
      "metadata": {
        "id": "oa1M8O3ZPo71",
        "colab": {
          "base_uri": "https://localhost:8080/",
          "height": 35
        },
        "outputId": "25691fe0-fd68-491a-cde7-056f009e9624"
      },
      "source": [
        "# vocabulary size\n",
        "vocab_size = len(mapping)\n",
        "print('Vocabulary Size: %d' % vocab_size)"
      ],
      "execution_count": null,
      "outputs": [
        {
          "output_type": "stream",
          "text": [
            "Vocabulary Size: 38\n"
          ],
          "name": "stdout"
        }
      ]
    },
    {
      "cell_type": "markdown",
      "metadata": {
        "id": "jQkJkzt5PvKZ"
      },
      "source": [
        "Create dataset:"
      ]
    },
    {
      "cell_type": "code",
      "metadata": {
        "id": "drCVoAarPwqB"
      },
      "source": [
        "import numpy as np\n",
        "\n",
        "sequences = np.array(sequences)\n",
        "X, y = sequences[:,:-1], sequences[:,-1]"
      ],
      "execution_count": null,
      "outputs": []
    },
    {
      "cell_type": "code",
      "metadata": {
        "id": "zVjd2WzZPzxL"
      },
      "source": [
        "sequences = [to_categorical(x, num_classes=vocab_size) for x in X]\n",
        "X = np.array(sequences)\n",
        "y = to_categorical(y, num_classes=vocab_size)"
      ],
      "execution_count": null,
      "outputs": []
    },
    {
      "cell_type": "code",
      "metadata": {
        "id": "NxrZ2DhqP7lh",
        "colab": {
          "base_uri": "https://localhost:8080/",
          "height": 363
        },
        "outputId": "4dc048b1-24cd-4c1b-ace9-9952737c1904"
      },
      "source": [
        "# define model\n",
        "model = Sequential()\n",
        "model.add(LSTM(75, input_shape=(X.shape[1], X.shape[2])))\n",
        "model.add(Dense(vocab_size, activation='softmax'))\n",
        "print(model.summary())"
      ],
      "execution_count": null,
      "outputs": [
        {
          "output_type": "stream",
          "text": [
            "WARNING:tensorflow:From /usr/local/lib/python3.6/dist-packages/keras/backend/tensorflow_backend.py:66: The name tf.get_default_graph is deprecated. Please use tf.compat.v1.get_default_graph instead.\n",
            "\n",
            "WARNING:tensorflow:From /usr/local/lib/python3.6/dist-packages/keras/backend/tensorflow_backend.py:541: The name tf.placeholder is deprecated. Please use tf.compat.v1.placeholder instead.\n",
            "\n",
            "WARNING:tensorflow:From /usr/local/lib/python3.6/dist-packages/keras/backend/tensorflow_backend.py:4432: The name tf.random_uniform is deprecated. Please use tf.random.uniform instead.\n",
            "\n",
            "Model: \"sequential_1\"\n",
            "_________________________________________________________________\n",
            "Layer (type)                 Output Shape              Param #   \n",
            "=================================================================\n",
            "lstm_1 (LSTM)                (None, 75)                34200     \n",
            "_________________________________________________________________\n",
            "dense_1 (Dense)              (None, 38)                2888      \n",
            "=================================================================\n",
            "Total params: 37,088\n",
            "Trainable params: 37,088\n",
            "Non-trainable params: 0\n",
            "_________________________________________________________________\n",
            "None\n"
          ],
          "name": "stdout"
        }
      ]
    },
    {
      "cell_type": "code",
      "metadata": {
        "id": "aMxdVpkKQTdN",
        "colab": {
          "base_uri": "https://localhost:8080/",
          "height": 312
        },
        "outputId": "f5887dcc-3989-48c0-c9ed-0679abbb39b3"
      },
      "source": [
        "plot_model(model, to_file='model.png', show_shapes=True)"
      ],
      "execution_count": null,
      "outputs": [
        {
          "output_type": "execute_result",
          "data": {
            "image/png": "[encoded data removed]",
            "text/plain": [
              "<IPython.core.display.Image object>"
            ]
          },
          "metadata": {
            "tags": []
          },
          "execution_count": 18
        }
      ]
    },
    {
      "cell_type": "code",
      "metadata": {
        "id": "u_44lh65Qbor",
        "colab": {
          "base_uri": "https://localhost:8080/",
          "height": 1000
        },
        "outputId": "d0fe0886-6b30-457e-ecbb-fccfc2589c27"
      },
      "source": [
        "# compile model\n",
        "model.compile(loss='categorical_crossentropy', optimizer='adam', metrics=['accuracy'])\n",
        "# fit model\n",
        "model.fit(X, y, epochs=100, verbose=2)"
      ],
      "execution_count": null,
      "outputs": [
        {
          "output_type": "stream",
          "text": [
            "WARNING:tensorflow:From /usr/local/lib/python3.6/dist-packages/keras/optimizers.py:793: The name tf.train.Optimizer is deprecated. Please use tf.compat.v1.train.Optimizer instead.\n",
            "\n",
            "WARNING:tensorflow:From /usr/local/lib/python3.6/dist-packages/keras/backend/tensorflow_backend.py:3576: The name tf.log is deprecated. Please use tf.math.log instead.\n",
            "\n",
            "WARNING:tensorflow:From /usr/local/lib/python3.6/dist-packages/tensorflow_core/python/ops/math_grad.py:1424: where (from tensorflow.python.ops.array_ops) is deprecated and will be removed in a future version.\n",
            "Instructions for updating:\n",
            "Use tf.where in 2.0, which has the same broadcast rule as np.where\n",
            "WARNING:tensorflow:From /usr/local/lib/python3.6/dist-packages/keras/backend/tensorflow_backend.py:1033: The name tf.assign_add is deprecated. Please use tf.compat.v1.assign_add instead.\n",
            "\n",
            "WARNING:tensorflow:From /usr/local/lib/python3.6/dist-packages/keras/backend/tensorflow_backend.py:1020: The name tf.assign is deprecated. Please use tf.compat.v1.assign instead.\n",
            "\n",
            "WARNING:tensorflow:From /usr/local/lib/python3.6/dist-packages/keras/backend/tensorflow_backend.py:3005: The name tf.Session is deprecated. Please use tf.compat.v1.Session instead.\n",
            "\n",
            "Epoch 1/100\n",
            "WARNING:tensorflow:From /usr/local/lib/python3.6/dist-packages/keras/backend/tensorflow_backend.py:190: The name tf.get_default_session is deprecated. Please use tf.compat.v1.get_default_session instead.\n",
            "\n",
            "WARNING:tensorflow:From /usr/local/lib/python3.6/dist-packages/keras/backend/tensorflow_backend.py:197: The name tf.ConfigProto is deprecated. Please use tf.compat.v1.ConfigProto instead.\n",
            "\n",
            "WARNING:tensorflow:From /usr/local/lib/python3.6/dist-packages/keras/backend/tensorflow_backend.py:207: The name tf.global_variables is deprecated. Please use tf.compat.v1.global_variables instead.\n",
            "\n",
            "WARNING:tensorflow:From /usr/local/lib/python3.6/dist-packages/keras/backend/tensorflow_backend.py:216: The name tf.is_variable_initialized is deprecated. Please use tf.compat.v1.is_variable_initialized instead.\n",
            "\n",
            "WARNING:tensorflow:From /usr/local/lib/python3.6/dist-packages/keras/backend/tensorflow_backend.py:223: The name tf.variables_initializer is deprecated. Please use tf.compat.v1.variables_initializer instead.\n",
            "\n",
            " - 1s - loss: 3.6137 - acc: 0.0752\n",
            "Epoch 2/100\n",
            " - 0s - loss: 3.5069 - acc: 0.1905\n",
            "Epoch 3/100\n",
            " - 0s - loss: 3.1959 - acc: 0.1905\n",
            "Epoch 4/100\n",
            " - 0s - loss: 3.0527 - acc: 0.1905\n",
            "Epoch 5/100\n",
            " - 0s - loss: 3.0180 - acc: 0.1905\n",
            "Epoch 6/100\n",
            " - 0s - loss: 2.9929 - acc: 0.1905\n",
            "Epoch 7/100\n",
            " - 0s - loss: 2.9723 - acc: 0.1905\n",
            "Epoch 8/100\n",
            " - 0s - loss: 2.9573 - acc: 0.1905\n",
            "Epoch 9/100\n",
            " - 0s - loss: 2.9391 - acc: 0.1905\n",
            "Epoch 10/100\n",
            " - 0s - loss: 2.9226 - acc: 0.1905\n",
            "Epoch 11/100\n",
            " - 0s - loss: 2.9036 - acc: 0.1930\n",
            "Epoch 12/100\n",
            " - 0s - loss: 2.8716 - acc: 0.2055\n",
            "Epoch 13/100\n",
            " - 0s - loss: 2.8589 - acc: 0.2155\n",
            "Epoch 14/100\n",
            " - 0s - loss: 2.8374 - acc: 0.2055\n",
            "Epoch 15/100\n",
            " - 0s - loss: 2.8116 - acc: 0.2155\n",
            "Epoch 16/100\n",
            " - 0s - loss: 2.7770 - acc: 0.2080\n",
            "Epoch 17/100\n",
            " - 0s - loss: 2.7459 - acc: 0.2256\n",
            "Epoch 18/100\n",
            " - 0s - loss: 2.7167 - acc: 0.2456\n",
            "Epoch 19/100\n",
            " - 0s - loss: 2.6998 - acc: 0.2632\n",
            "Epoch 20/100\n",
            " - 0s - loss: 2.6611 - acc: 0.2456\n",
            "Epoch 21/100\n",
            " - 0s - loss: 2.6161 - acc: 0.2807\n",
            "Epoch 22/100\n",
            " - 0s - loss: 2.5888 - acc: 0.3008\n",
            "Epoch 23/100\n",
            " - 0s - loss: 2.5566 - acc: 0.2832\n",
            "Epoch 24/100\n",
            " - 0s - loss: 2.5091 - acc: 0.3409\n",
            "Epoch 25/100\n",
            " - 0s - loss: 2.4809 - acc: 0.2957\n",
            "Epoch 26/100\n",
            " - 0s - loss: 2.4353 - acc: 0.3459\n",
            "Epoch 27/100\n",
            " - 0s - loss: 2.3929 - acc: 0.3283\n",
            "Epoch 28/100\n",
            " - 0s - loss: 2.3500 - acc: 0.3308\n",
            "Epoch 29/100\n",
            " - 0s - loss: 2.3109 - acc: 0.3860\n",
            "Epoch 30/100\n",
            " - 0s - loss: 2.2873 - acc: 0.3383\n",
            "Epoch 31/100\n",
            " - 0s - loss: 2.2246 - acc: 0.3734\n",
            "Epoch 32/100\n",
            " - 0s - loss: 2.1875 - acc: 0.3709\n",
            "Epoch 33/100\n",
            " - 0s - loss: 2.1352 - acc: 0.3634\n",
            "Epoch 34/100\n",
            " - 0s - loss: 2.1013 - acc: 0.4060\n",
            "Epoch 35/100\n",
            " - 0s - loss: 2.0595 - acc: 0.4211\n",
            "Epoch 36/100\n",
            " - 0s - loss: 2.0608 - acc: 0.4411\n",
            "Epoch 37/100\n",
            " - 0s - loss: 1.9865 - acc: 0.4436\n",
            "Epoch 38/100\n",
            " - 0s - loss: 1.9508 - acc: 0.4511\n",
            "Epoch 39/100\n",
            " - 0s - loss: 1.9012 - acc: 0.4862\n",
            "Epoch 40/100\n",
            " - 0s - loss: 1.8917 - acc: 0.4762\n",
            "Epoch 41/100\n",
            " - 0s - loss: 1.8126 - acc: 0.4962\n",
            "Epoch 42/100\n",
            " - 0s - loss: 1.7774 - acc: 0.5163\n",
            "Epoch 43/100\n",
            " - 0s - loss: 1.7342 - acc: 0.5238\n",
            "Epoch 44/100\n",
            " - 0s - loss: 1.6912 - acc: 0.5338\n",
            "Epoch 45/100\n",
            " - 0s - loss: 1.6510 - acc: 0.5589\n",
            "Epoch 46/100\n",
            " - 0s - loss: 1.6094 - acc: 0.5739\n",
            "Epoch 47/100\n",
            " - 0s - loss: 1.5846 - acc: 0.5815\n",
            "Epoch 48/100\n",
            " - 0s - loss: 1.5548 - acc: 0.5965\n",
            "Epoch 49/100\n",
            " - 0s - loss: 1.4926 - acc: 0.5940\n",
            "Epoch 50/100\n",
            " - 0s - loss: 1.4648 - acc: 0.6065\n",
            "Epoch 51/100\n",
            " - 0s - loss: 1.4140 - acc: 0.6391\n",
            "Epoch 52/100\n",
            " - 0s - loss: 1.3795 - acc: 0.6366\n",
            "Epoch 53/100\n",
            " - 0s - loss: 1.3534 - acc: 0.6591\n",
            "Epoch 54/100\n",
            " - 0s - loss: 1.3302 - acc: 0.6566\n",
            "Epoch 55/100\n",
            " - 0s - loss: 1.2802 - acc: 0.7093\n",
            "Epoch 56/100\n",
            " - 0s - loss: 1.2302 - acc: 0.7043\n",
            "Epoch 57/100\n",
            " - 0s - loss: 1.1954 - acc: 0.7193\n",
            "Epoch 58/100\n",
            " - 0s - loss: 1.1459 - acc: 0.7293\n",
            "Epoch 59/100\n",
            " - 0s - loss: 1.1046 - acc: 0.7644\n",
            "Epoch 60/100\n",
            " - 0s - loss: 1.0714 - acc: 0.7569\n",
            "Epoch 61/100\n",
            " - 0s - loss: 1.0508 - acc: 0.7744\n",
            "Epoch 62/100\n",
            " - 0s - loss: 0.9983 - acc: 0.7920\n",
            "Epoch 63/100\n",
            " - 0s - loss: 0.9741 - acc: 0.8070\n",
            "Epoch 64/100\n",
            " - 0s - loss: 0.9398 - acc: 0.8371\n",
            "Epoch 65/100\n",
            " - 0s - loss: 0.9304 - acc: 0.8070\n",
            "Epoch 66/100\n",
            " - 0s - loss: 0.8946 - acc: 0.8471\n",
            "Epoch 67/100\n",
            " - 0s - loss: 0.8451 - acc: 0.8722\n",
            "Epoch 68/100\n",
            " - 0s - loss: 0.8133 - acc: 0.8622\n",
            "Epoch 69/100\n",
            " - 0s - loss: 0.7967 - acc: 0.8747\n",
            "Epoch 70/100\n",
            " - 0s - loss: 0.7495 - acc: 0.8797\n",
            "Epoch 71/100\n",
            " - 0s - loss: 0.7154 - acc: 0.8997\n",
            "Epoch 72/100\n",
            " - 0s - loss: 0.6979 - acc: 0.9048\n",
            "Epoch 73/100\n",
            " - 0s - loss: 0.6806 - acc: 0.9048\n",
            "Epoch 74/100\n",
            " - 0s - loss: 0.6709 - acc: 0.9048\n",
            "Epoch 75/100\n",
            " - 0s - loss: 0.6744 - acc: 0.9073\n",
            "Epoch 76/100\n",
            " - 0s - loss: 0.6382 - acc: 0.9198\n",
            "Epoch 77/100\n",
            " - 0s - loss: 0.5896 - acc: 0.9248\n",
            "Epoch 78/100\n",
            " - 0s - loss: 0.5504 - acc: 0.9449\n",
            "Epoch 79/100\n",
            " - 0s - loss: 0.5511 - acc: 0.9373\n",
            "Epoch 80/100\n",
            " - 0s - loss: 0.5231 - acc: 0.9449\n",
            "Epoch 81/100\n",
            " - 0s - loss: 0.4859 - acc: 0.9649\n",
            "Epoch 82/100\n",
            " - 0s - loss: 0.4722 - acc: 0.9674\n",
            "Epoch 83/100\n",
            " - 0s - loss: 0.4520 - acc: 0.9624\n",
            "Epoch 84/100\n",
            " - 0s - loss: 0.4333 - acc: 0.9699\n",
            "Epoch 85/100\n",
            " - 0s - loss: 0.4179 - acc: 0.9749\n",
            "Epoch 86/100\n",
            " - 0s - loss: 0.3988 - acc: 0.9724\n",
            "Epoch 87/100\n",
            " - 0s - loss: 0.3773 - acc: 0.9850\n",
            "Epoch 88/100\n",
            " - 0s - loss: 0.3711 - acc: 0.9825\n",
            "Epoch 89/100\n",
            " - 0s - loss: 0.3587 - acc: 0.9875\n",
            "Epoch 90/100\n",
            " - 0s - loss: 0.3430 - acc: 0.9825\n",
            "Epoch 91/100\n",
            " - 0s - loss: 0.3425 - acc: 0.9875\n",
            "Epoch 92/100\n",
            " - 0s - loss: 0.3186 - acc: 0.9900\n",
            "Epoch 93/100\n",
            " - 0s - loss: 0.3017 - acc: 0.9900\n",
            "Epoch 94/100\n",
            " - 0s - loss: 0.2890 - acc: 0.9925\n",
            "Epoch 95/100\n",
            " - 0s - loss: 0.2775 - acc: 0.9875\n",
            "Epoch 96/100\n",
            " - 0s - loss: 0.2673 - acc: 0.9900\n",
            "Epoch 97/100\n",
            " - 0s - loss: 0.2565 - acc: 0.9925\n",
            "Epoch 98/100\n",
            " - 0s - loss: 0.2476 - acc: 0.9900\n",
            "Epoch 99/100\n",
            " - 0s - loss: 0.2335 - acc: 0.9925\n",
            "Epoch 100/100\n",
            " - 0s - loss: 0.2277 - acc: 0.9950\n"
          ],
          "name": "stdout"
        },
        {
          "output_type": "execute_result",
          "data": {
            "text/plain": [
              "<keras.callbacks.History at 0x7f0bd920cd30>"
            ]
          },
          "metadata": {
            "tags": []
          },
          "execution_count": 19
        }
      ]
    },
    {
      "cell_type": "code",
      "metadata": {
        "id": "Shof3SfIQeis"
      },
      "source": [
        "# save the model to file\n",
        "model.save('model.h5')"
      ],
      "execution_count": null,
      "outputs": []
    },
    {
      "cell_type": "code",
      "metadata": {
        "id": "MpHCugxDQfv1"
      },
      "source": [
        "# save the mapping\n",
        "dump(mapping, open('mapping.pkl', 'wb'))"
      ],
      "execution_count": null,
      "outputs": []
    },
    {
      "cell_type": "markdown",
      "metadata": {
        "id": "4rY-GRR-QkJ1"
      },
      "source": [
        "# Generate Text"
      ]
    },
    {
      "cell_type": "markdown",
      "metadata": {
        "id": "XpgUUkzyQtHk"
      },
      "source": [
        "We must provide sequences of 10 characters as input to the model in order to start the generation process. We will pick these manually.\n",
        "\n",
        "A given input sequence will need to be prepared in the same way as preparing the training data for the model.\n",
        "\n",
        "First, the sequence of characters must be integer encoded using the loaded mapping.\n",
        "```\n",
        "# encode the characters as integers\n",
        "encoded = [mapping[char] for char in in_text]\n",
        "\n",
        "\n",
        "```\n",
        "Next, the sequences need to be one hot encoded using the to_categorical() Keras function.\n",
        "```\n",
        "# one hot encode\n",
        "encoded = to_categorical(encoded, num_classes=len(mapping))\n",
        "\n",
        "```\n",
        "We can then use the model to predict the next character in the sequence.\n",
        "\n",
        "We use predict_classes() instead of predict() to directly select the integer for the character with the highest probability instead of getting the full probability distribution across the entire set of characters.\n",
        "```\n",
        "# predict character\n",
        "yhat = model.predict_classes(encoded, verbose=0)\n",
        "\n",
        "\n",
        "```\n",
        "We can then decode this integer by looking up the mapping to see the character to which it maps.\n",
        "```\n",
        "out_char = ''\n",
        "for char, index in mapping.items():\n",
        "\tif index == yhat:\n",
        "\t\tout_char = char\n",
        "\t\tbreak\n",
        "\n",
        "\n",
        "```    \n",
        "This character can then be added to the input sequence. We then need to make sure that the input sequence is 10 characters by truncating the first character from the input sequence text.\n",
        "\n",
        "We can use the pad_sequences() function from the Keras API that can perform this truncation operation.\n",
        "\n",
        "Putting all of this together, we can define a new function named generate_seq() for using the loaded model to generate new sequences of text.\n",
        "```\n",
        "# generate a sequence of characters with a language model\n",
        "def generate_seq(model, mapping, seq_length, seed_text, n_chars):\n",
        "\tin_text = seed_text\n",
        "\t# generate a fixed number of characters\n",
        "\tfor _ in range(n_chars):\n",
        "\t\t# encode the characters as integers\n",
        "\t\tencoded = [mapping[char] for char in in_text]\n",
        "\t\t# truncate sequences to a fixed length\n",
        "\t\tencoded = pad_sequences([encoded], maxlen=seq_length, truncating='pre')\n",
        "\t\t# one hot encode\n",
        "\t\tencoded = to_categorical(encoded, num_classes=len(mapping))\n",
        "\t\t# predict character\n",
        "\t\tyhat = model.predict_classes(encoded, verbose=0)\n",
        "\t\t# reverse map integer to character\n",
        "\t\tout_char = ''\n",
        "\t\tfor char, index in mapping.items():\n",
        "\t\t\tif index == yhat:\n",
        "\t\t\t\tout_char = char\n",
        "\t\t\t\tbreak\n",
        "\t\t# append to input\n",
        "\t\tin_text += char\n",
        "\treturn in_text\n",
        "```"
      ]
    },
    {
      "cell_type": "code",
      "metadata": {
        "id": "Z3WvBbiiQmfI",
        "colab": {
          "base_uri": "https://localhost:8080/",
          "height": 72
        },
        "outputId": "317bd0c5-e73d-4d3a-ceb3-07743d67f2ea"
      },
      "source": [
        "from pickle import load\n",
        "from keras.models import load_model\n",
        "from keras.utils import to_categorical\n",
        "from keras.preprocessing.sequence import pad_sequences\n",
        "\n",
        "# generate a sequence of characters with a language model\n",
        "def generate_seq(model, mapping, seq_length, seed_text, n_chars):\n",
        "   in_text = seed_text\n",
        "   # generate a fixed number of characters\n",
        "   for _ in range(n_chars):\n",
        "      # encode the characters as integers\n",
        "      encoded = [mapping[char] for char in in_text]\n",
        "      # truncate sequences to a fixed length\n",
        "      encoded = pad_sequences([encoded], maxlen=seq_length, truncating='pre')\n",
        "      #print(encoded.shape)\n",
        "      # one hot encode\n",
        "      encoded = to_categorical(encoded, num_classes=len(mapping))\n",
        "      #print(encoded.shape)\n",
        "      #encoded = encoded.reshape(1, encoded.shape[0], encoded.shape[1])\n",
        "      # predict character\n",
        "      yhat = model.predict_classes(encoded, verbose=0)\n",
        "      # reverse map integer to character\n",
        "      out_char = ''\n",
        "      for char, index in mapping.items():\n",
        "         if index == yhat:\n",
        "            out_char = char\n",
        "            break\n",
        "      # append to input\n",
        "      in_text += char\n",
        "   return in_text\n",
        "\n",
        "# load the model\n",
        "model = load_model('model.h5')\n",
        "# load the mapping\n",
        "mapping = load(open('mapping.pkl', 'rb'))\n",
        "\n",
        "# test start of rhyme\n",
        "print(generate_seq(model, mapping, 10, 'Sing a son', 20))\n",
        "# test mid-line\n",
        "print(generate_seq(model, mapping, 10, 'king was i', 20))\n",
        "# test not in original\n",
        "print(generate_seq(model, mapping, 10, 'hello worl', 20))"
      ],
      "execution_count": null,
      "outputs": [
        {
          "output_type": "stream",
          "text": [
            "Sing a song of sixpence, A poc\n",
            "king was in his counting house\n",
            "hello worle Ff rinr tadaad ann\n"
          ],
          "name": "stdout"
        }
      ]
    },
    {
      "cell_type": "markdown",
      "metadata": {
        "id": "DN13R75wST39"
      },
      "source": [
        "The first is a test to see how the model does at starting from the beginning of the rhyme.\n",
        "\n",
        "The second is a test to see how well it does at beginning in the middle of a line. The final example is a test to see how well it does with a sequence of characters never seen before."
      ]
    },
    {
      "cell_type": "markdown",
      "metadata": {
        "id": "E7HPHe9CSKtv"
      },
      "source": [
        "We can see that the model did very well with the first two examples, as we would expect. We can also see that the model still generated something for the new text, but it is nonsense."
      ]
    }
  ]
}