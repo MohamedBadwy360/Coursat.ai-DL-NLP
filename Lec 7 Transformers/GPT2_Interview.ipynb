{
  "nbformat": 4,
  "nbformat_minor": 0,
  "metadata": {
    "colab": {
      "provenance": []
    },
    "kernelspec": {
      "name": "python3",
      "display_name": "Python 3"
    },
    "accelerator": "GPU"
  },
  "cells": [
    {
      "cell_type": "code",
      "metadata": {
        "id": "KBkpRgBCBS2_",
        "outputId": "03d245bf-0996-41ac-cf18-0b8cd26f91a5",
        "colab": {
          "base_uri": "https://localhost:8080/",
          "height": 153
        }
      },
      "source": [
        "%tensorflow_version 1.x\n",
        "!pip install -q gpt-2-simple\n",
        "import gpt_2_simple as gpt2\n",
        "import tensorflow as tf"
      ],
      "execution_count": null,
      "outputs": [
        {
          "output_type": "stream",
          "text": [
            "WARNING:tensorflow:\n",
            "The TensorFlow contrib module will not be included in TensorFlow 2.0.\n",
            "For more information, please see:\n",
            "  * https://github.com/tensorflow/community/blob/master/rfcs/20180907-contrib-sunset.md\n",
            "  * https://github.com/tensorflow/addons\n",
            "  * https://github.com/tensorflow/io (for I/O related ops)\n",
            "If you depend on functionality not listed there, please file an issue.\n",
            "\n"
          ],
          "name": "stdout"
        }
      ]
    },
    {
      "cell_type": "code",
      "metadata": {
        "id": "BAe4NpKNUj2C",
        "outputId": "89cb44c9-3d88-4120-dfed-cd5467732b3b",
        "colab": {
          "base_uri": "https://localhost:8080/",
          "height": 170
        }
      },
      "source": [
        "gpt2.download_gpt2(model_name=\"1558M\")\n",
        "tf.reset_default_graph()\n",
        "sess = gpt2.start_tf_sess()\n",
        "gpt2.load_gpt2(sess, model_name=\"1558M\")"
      ],
      "execution_count": null,
      "outputs": [
        {
          "output_type": "stream",
          "text": [
            "Fetching checkpoint: 1.05Mit [00:00, 410Mit/s]                                                      \n",
            "Fetching encoder.json: 1.05Mit [00:00, 72.6Mit/s]                                                   \n",
            "Fetching hparams.json: 1.05Mit [00:00, 412Mit/s]                                                    \n",
            "Fetching model.ckpt.data-00000-of-00001: 6.23Git [02:03, 30.5Mit/s]                                 \n",
            "Fetching model.ckpt.index: 1.05Mit [00:00, 414Mit/s]                                                \n",
            "Fetching model.ckpt.meta: 2.10Mit [00:00, 130Mit/s]                                                 \n",
            "Fetching vocab.bpe: 1.05Mit [00:00, 146Mit/s]                                                       \n"
          ],
          "name": "stderr"
        },
        {
          "output_type": "stream",
          "text": [
            "Loading pretrained model models/1558M/model.ckpt\n",
            "INFO:tensorflow:Restoring parameters from models/1558M/model.ckpt\n"
          ],
          "name": "stdout"
        }
      ]
    },
    {
      "cell_type": "code",
      "metadata": {
        "id": "-xInIZKaU104",
        "outputId": "66812862-5a53-4df3-ab2f-83e70430bd73",
        "colab": {
          "base_uri": "https://localhost:8080/",
          "height": 170
        }
      },
      "source": [
        "gpt2.generate(sess,\n",
        "              model_name=\"1558M\",\n",
        "              prefix=\"The most popular person in Austria is\",\n",
        "              length=30,\n",
        "              temperature=0.9,\n",
        "              top_p=0.9,\n",
        "              nsamples=3\n",
        "              )"
      ],
      "execution_count": null,
      "outputs": [
        {
          "output_type": "stream",
          "text": [
            "WARNING:tensorflow:From /usr/local/lib/python3.6/dist-packages/gpt_2_simple/src/sample.py:32: where (from tensorflow.python.ops.array_ops) is deprecated and will be removed in a future version.\n",
            "Instructions for updating:\n",
            "Use tf.where in 2.0, which has the same broadcast rule as np.where\n",
            "The most popular person in Austria is probably the head of the Social Democratic Party, Gabriel. His party won the most votes in the parliamentary elections in October 2016 and is now the largest political\n",
            "====================\n",
            "The most popular person in Austria is still the queen, but there are rising numbers of people who prefer the semi-macho, maybe-a-golfer-off-duty\n",
            "====================\n",
            "The most popular person in Austria is almost always the owner of the most luxurious car, the same car which is the envy of the entire world. This is because he is the owner of\n",
            "====================\n"
          ],
          "name": "stdout"
        }
      ]
    },
    {
      "cell_type": "code",
      "metadata": {
        "id": "IVqX1quD3vYC",
        "outputId": "1402751a-1ddf-40d8-80a1-83aa1e62ca4d",
        "colab": {
          "base_uri": "https://localhost:8080/",
          "height": 136
        }
      },
      "source": [
        "gpt2.generate(sess,\n",
        "              model_name=\"1558M\",\n",
        "              prefix=\"The most beautiful place in Austria is\",\n",
        "              length=30,\n",
        "              temperature=0.9,\n",
        "              top_p=0.9,\n",
        "              nsamples=3\n",
        "              )"
      ],
      "execution_count": null,
      "outputs": [
        {
          "output_type": "stream",
          "text": [
            "The most beautiful place in Austria is in the valley near Vienna. At the top of the valley is the village of Strausbach. It has very good trails, and is a great\n",
            "====================\n",
            "The most beautiful place in Austria is near Vienna and this beautiful landmark is about to get more beautiful and gaudy as it is set to be sold to Russian developer STX, and\n",
            "====================\n",
            "The most beautiful place in Austria is the Biennale Artistic Villa near Vienna, it's decorated in the old country style. This place is a masterpiece in its own right.\n",
            "\n",
            "====================\n"
          ],
          "name": "stdout"
        }
      ]
    },
    {
      "cell_type": "code",
      "metadata": {
        "id": "Z7IbjMEl32Nj",
        "outputId": "54037f8d-0ffa-4b79-90cb-e942080c44ea",
        "colab": {
          "base_uri": "https://localhost:8080/",
          "height": 187
        }
      },
      "source": [
        "gpt2.generate(sess,\n",
        "              model_name=\"1558M\",\n",
        "              prefix=\"In the history of Austria, there have often been\",\n",
        "              length=30,\n",
        "              temperature=0.9,\n",
        "              top_p=0.9,\n",
        "              nsamples=3\n",
        "              )"
      ],
      "execution_count": null,
      "outputs": [
        {
          "output_type": "stream",
          "text": [
            "In the history of Austria there have often been such examples. The people of a country, living in an age when such a problem was virtually unknown, protested against the national socialism of the Habs\n",
            "====================\n",
            "In the history of Austria there have often been problems in connection with the Chinese (Baker, S. 1997).\n",
            "\n",
            "In the Austro-Hungarian-controlled territory of the Republic of\n",
            "====================\n",
            "In the history of Austria there have often been very few neighbours who lived and worked side by side in peace and good neighbourliness.\n",
            "\n",
            "What has happened in Europe since the 20th century?\n",
            "====================\n"
          ],
          "name": "stdout"
        }
      ]
    },
    {
      "cell_type": "code",
      "metadata": {
        "id": "mFLhd0Lx38D5",
        "outputId": "3d71933c-e730-47c1-c14e-7f84d6635f90",
        "colab": {
          "base_uri": "https://localhost:8080/",
          "height": 153
        }
      },
      "source": [
        "gpt2.generate(sess,\n",
        "              model_name=\"1558M\",\n",
        "              prefix=\"The most popular sport in Austria is\",\n",
        "              length=30,\n",
        "              temperature=0.9,\n",
        "              top_p=0.9,\n",
        "              nsamples=3\n",
        "              )"
      ],
      "execution_count": null,
      "outputs": [
        {
          "output_type": "stream",
          "text": [
            "The most popular sport in Austria is still football, and in Vienna it is the most popular sport too.\n",
            "\n",
            "New Austrian Olympic team formed: Michael Tösser, Ist\n",
            "====================\n",
            "The most popular sport in Austria is running. A number of outdoor leagues are held each year and there are several high school-based running clubs. Running has also become an important social activity\n",
            "====================\n",
            "The most popular sport in Austria is football, but other forms of sports have also become popular. Although it's one of the most popular sports in the world, football is not widely played\n",
            "====================\n"
          ],
          "name": "stdout"
        }
      ]
    },
    {
      "cell_type": "code",
      "metadata": {
        "id": "r2vYTLDt4CeA",
        "outputId": "ddae535f-e91d-4950-d236-2d9b2b9617a9",
        "colab": {
          "base_uri": "https://localhost:8080/",
          "height": 153
        }
      },
      "source": [
        "gpt2.generate(sess,\n",
        "              model_name=\"1558M\",\n",
        "              prefix=\"The climate in Austria is\",\n",
        "              length=30,\n",
        "              temperature=0.9,\n",
        "              top_p=0.9,\n",
        "              nsamples=3\n",
        "              )"
      ],
      "execution_count": null,
      "outputs": [
        {
          "output_type": "stream",
          "text": [
            "The climate in Austria is warm and moderate. The average high temperature in July is 11°C and the lowest is -2°C, with the highest temperatures occurring in December\n",
            "====================\n",
            "The climate in Austria is unlike anywhere else in Europe. Every summer, snow covers some of the country's highest mountains and the country experiences the warmest summers on Earth. But\n",
            "====================\n",
            "The climate in Austria is certainly very warm and this is a good reason to have a love affair with St. Bernardin.\"\n",
            "\n",
            "Some of the nicest specimens have been\n",
            "====================\n"
          ],
          "name": "stdout"
        }
      ]
    }
  ]
}